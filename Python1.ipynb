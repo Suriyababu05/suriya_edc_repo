{
 "cells": [
  {
   "cell_type": "code",
   "execution_count": null,
   "id": "5cf53cb5",
   "metadata": {},
   "outputs": [
    {
     "name": "stdout",
     "output_type": "stream",
     "text": [
      "Welcome to Gilly's\n",
      "Please enter your details to check if your allowed\n"
     ]
    }
   ],
   "source": [
    "print(\"Welcome to Gilly's\")\n",
    "print(\"Please enter your details to check if your allowed\")\n",
    "name=input(\"Enter Name : \")\n",
    "age=int(input(\"Enter Age : \"))\n",
    "if age>=18:\n",
    "    print(name,\"your allowed to enter the gillys pub, have fun!!!!\")\n",
    "else:\n",
    "    print(name,\"Sorry your allowed to enter the gillys pub \")"
   ]
  },
  {
   "cell_type": "code",
   "execution_count": null,
   "id": "af1c63b3",
   "metadata": {},
   "outputs": [],
   "source": []
  },
  {
   "cell_type": "code",
   "execution_count": null,
   "id": "4691cdb8",
   "metadata": {},
   "outputs": [],
   "source": []
  }
 ],
 "metadata": {
  "kernelspec": {
   "display_name": "Python 3 (ipykernel)",
   "language": "python",
   "name": "python3"
  },
  "language_info": {
   "codemirror_mode": {
    "name": "ipython",
    "version": 3
   },
   "file_extension": ".py",
   "mimetype": "text/x-python",
   "name": "python",
   "nbconvert_exporter": "python",
   "pygments_lexer": "ipython3",
   "version": "3.11.4"
  }
 },
 "nbformat": 4,
 "nbformat_minor": 5
}
